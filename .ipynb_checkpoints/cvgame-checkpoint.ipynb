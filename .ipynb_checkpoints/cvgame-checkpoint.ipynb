{
 "cells": [
  {
   "cell_type": "markdown",
   "metadata": {},
   "source": [
    "These codes are used to explore the use of cv2 with TuringComplete  maze game part  \n",
    "game -> https://store.steampowered.com/app/1444480/Turing_Complete/\n",
    "\n",
    "Game Description\n",
    "This game is based on a powerful circuit simulator. This circuit simulator allows you to give free rein to your imagination and pass through the levels with different solutions or build your own computer the way you like. You can connect as many components as you like to your computer such as displays, timers, sound components, etc., as well as receive data sent from real-life keyboards and networks. You can even design your own proprietary assembly language for your own computer.\n",
    "\n",
    "In the following code I will use cv2 and keyboard input to try to get through the maze challenges in the game, I will rewrite the assembly code from the game in python before trying to train the model to pass the game using q larning\n",
    "\n",
    "run in win10( 2k 125% ) in game \"the maze\" (150% biggest window)\n",
    "\n",
    "<img src=\".\\images\\TuringCompleteimage.png\" width=\"500\" />"
   ]
  },
  {
   "cell_type": "markdown",
   "metadata": {},
   "source": [
    "1. part 1"
   ]
  },
  {
   "cell_type": "markdown",
   "metadata": {},
   "source": [
    "\n",
    "1. 1. Use cv2 to detect the surrounding :)"
   ]
  },
  {
   "cell_type": "code",
   "execution_count": 6,
   "metadata": {},
   "outputs": [],
   "source": [
    "import gym\n",
    "from gym import envs\n",
    "import time\n",
    "import pyautogui\n",
    "import cv2\n",
    "import numpy as np\n",
    "import sys\n",
    "sys.path.append('C:\\\\Users\\\\jim\\\\git\\\\cvwork\\\\src\\\\gym-maze')\n",
    "import gym_maze\n",
    "import matplotlib\n",
    "matplotlib.use('TkAgg')  # avoid non-GUI warning for matplotlib\n",
    "from IPython.display import display, HTML\n",
    "from gym_maze.envs import MazeEnv\n",
    "from gym_maze.envs.generators import SimpleMazeGenerator, RandomMazeGenerator, RandomBlockMazeGenerator, \\\n",
    "                                     UMazeGenerator, TMazeGenerator, WaterMazeGenerator\n",
    "from gym_maze.envs.Astar_solver import AstarSolver"
   ]
  },
  {
   "cell_type": "code",
   "execution_count": 5,
   "metadata": {},
   "outputs": [
    {
     "name": "stdout",
     "output_type": "stream",
     "text": [
      "c:\\Users\\jim\\git\\cvwork\\.venv\\Scripts\\python.exe\n",
      "gym_maze imported successfully\n"
     ]
    }
   ],
   "source": [
    "import sys\n",
    "print(sys.executable) #finds the path of the python interpreter\n",
    "sys.path.append('C:\\\\Users\\\\jim\\\\git\\\\cvwork\\\\src\\\\gym-maze')\n",
    "import gym_maze\n",
    "print(\"gym_maze imported successfully\")"
   ]
  },
  {
   "cell_type": "code",
   "execution_count": 2,
   "metadata": {},
   "outputs": [
    {
     "name": "stdout",
     "output_type": "stream",
     "text": [
      "ready?\n",
      "run!\n",
      "up not wall\n",
      "left not wall\n",
      "down not wall\n",
      "right not wall\n"
     ]
    }
   ],
   "source": [
    "import time\n",
    "import pyautogui\n",
    "import cv2\n",
    "import numpy as np\n",
    "\n",
    "\n",
    "def capture_screen(region=None):\n",
    "    screenshot = pyautogui.screenshot(region=region) # screenshot\n",
    "    img_bgr = np.array(screenshot) # convert to numpy array\n",
    "    img_rgb = cv2.cvtColor(img_bgr, cv2.COLOR_BGR2RGB) # convert\n",
    "    return img_rgb\n",
    "\n",
    "\n",
    "def findAndShow(templatewall,threshold=0.9):\n",
    "    iswall = [0, 0, 0, 0]#[\"up\",\"left\",\"down\",\"right\"]\n",
    "    for i in range(4):\n",
    "        screen = capture_screen()\n",
    "        time.sleep(0.01)\n",
    "        # 使用temlatewall匹配确认前面有没有wall\n",
    "        result = cv2.matchTemplate(screen, templatewall, cv2.TM_CCOEFF_NORMED)\n",
    "        min_val, max_val, min_loc, max_loc = cv2.minMaxLoc(result)\n",
    "        if max_val > threshold:\n",
    "            iswall[i]= 1\n",
    "        else:\n",
    "            iswall[i] = 0\n",
    "        pyautogui.press('left')\n",
    "    printIsWall(iswall)\n",
    "    return iswall\n",
    "\n",
    "\n",
    "def printIsWall(iswall):\n",
    "    # 1 is wall 0 is not wall. \n",
    "    # Example: When the array is [1,0,1,1] the resultw will be \n",
    "    # up is wall, left not wall, down is wall, right is wall\n",
    "    directions = [\"up\",\"left\",\"down\",\"right\"]\n",
    "    for i in range(len(iswall)):\n",
    "        if iswall[i] == 1:\n",
    "            print(f\"{directions[i]} is wall\")\n",
    "        else:\n",
    "            print(f\"{directions[i]} not wall\")\n",
    "\n",
    "\n",
    "def main():\n",
    "    templatewall = cv2.imread(\".\\\\images\\\\tcwall.png\",cv2.IMREAD_COLOR)\n",
    "    if templatewall is None:\n",
    "        print(\"Error: image not be loaded.\")\n",
    "        return 0 \n",
    "    #cv2.namedWindow(\"Screen\", cv2.WINDOW_NORMAL)\n",
    "    # while True:\n",
    "    #     findAndShow()\n",
    "    #     if cv2.waitKey(1) & 0xFF == ord('q'):\n",
    "    #         break\n",
    "    print(\"ready?\")\n",
    "    time.sleep(2)\n",
    "    print(\"run!\")\n",
    "    findAndShow(templatewall)\n",
    "\n",
    "if __name__ == \"__main__\":\n",
    "    main()\n",
    "\n"
   ]
  },
  {
   "cell_type": "markdown",
   "metadata": {},
   "source": [
    "1. 2. Complete the game using the left-first principle (no deep laening and write the DIY assembly language code in the game as python)"
   ]
  },
  {
   "cell_type": "code",
   "execution_count": 3,
   "metadata": {},
   "outputs": [
    {
     "name": "stdout",
     "output_type": "stream",
     "text": [
      "ready?\n",
      "run!\n",
      "go left\n",
      "Program stop!\n"
     ]
    }
   ],
   "source": [
    "import time\n",
    "import pyautogui\n",
    "import cv2\n",
    "import numpy as np\n",
    "import keyboard \n",
    "\n",
    "def capture_screen(region=None):\n",
    "    screenshot = pyautogui.screenshot(region=region) # screenshot\n",
    "    img_bgr = np.array(screenshot) # convert to numpy array\n",
    "    img_rgb = cv2.cvtColor(img_bgr, cv2.COLOR_BGR2RGB) # convert\n",
    "    return img_rgb\n",
    "\n",
    "\n",
    "def findAndShow(templatewall,templatedoor,threshold=0.9):\n",
    "    iswall = [0, 0, 0, 0]#[\"front\",\"left\",\"back\",\"right\"]\n",
    "    isDoor = [0, 0, 0, 0]#[\"front\",\"left\",\"back\",\"right\"]\n",
    "    for i in range(4):\n",
    "        screen = capture_screen()\n",
    "        #time.sleep(0.01)\n",
    "        # 使用temlatewall匹配确认前面有没有wall\n",
    "        resultwall = cv2.matchTemplate(screen, templatewall, cv2.TM_CCOEFF_NORMED)\n",
    "        min_val, max_valwall, min_loc, max_loc = cv2.minMaxLoc(resultwall)\n",
    "        if max_valwall > threshold:\n",
    "            iswall[i]= 1\n",
    "        else:\n",
    "            iswall[i] = 0\n",
    "        # 使用temlatewall匹配确认前面有没有door\n",
    "        resultdoor = cv2.matchTemplate(screen, templatedoor, cv2.TM_CCOEFF_NORMED)\n",
    "        min_val, max_valdoor, min_loc, max_loc = cv2.minMaxLoc(resultdoor)\n",
    "        if max_valdoor > threshold:\n",
    "            isDoor[i]= 1\n",
    "        else:\n",
    "            isDoor[i] = 0\n",
    "        pyautogui.press('left')\n",
    "    return iswall , isDoor\n",
    "\n",
    "\n",
    "def main():\n",
    "    templatewall = cv2.imread(\".\\\\images\\\\tcwall.png\",cv2.IMREAD_COLOR)\n",
    "    templatedoor = cv2.imread(\".\\\\images\\\\tcdoor.png\",cv2.IMREAD_COLOR)\n",
    "    if templatewall is None or templatedoor is None:\n",
    "        print(\"Error: images not be loaded.\")\n",
    "        return 0 \n",
    "    print(\"ready?\")\n",
    "    time.sleep(2)\n",
    "    print(\"run!\")\n",
    "    while True:\n",
    "        if keyboard.is_pressed('q'):\n",
    "            print(\"Program stop!\")\n",
    "            break\n",
    "        #door\n",
    "        result_wall, result_door = findAndShow(templatewall,templatedoor)\n",
    "        for i in range(4):\n",
    "            if result_door[i] == 1 :\n",
    "                print(\"you find door ! :)\")\n",
    "                return 1 \n",
    "        #move\n",
    "        if result_wall[1] == 0 :\n",
    "            print(\"go left\")\n",
    "            pyautogui.press('left')\n",
    "            pyautogui.press('up')\n",
    "        elif result_wall[0] == 0 :\n",
    "            print(\"go front\")\n",
    "            pyautogui.press('up')\n",
    "        elif result_wall[3] == 0 :\n",
    "            print(\"go right\")\n",
    "            pyautogui.press('right')\n",
    "            pyautogui.press('up')\n",
    "        elif result_wall[2] == 0 :\n",
    "            print(\"go back\")\n",
    "            pyautogui.press('right')\n",
    "            pyautogui.press('right')\n",
    "            pyautogui.press('up')\n",
    "        else :\n",
    "            print(\"Error :(\")\n",
    "            return 0 \n",
    "        \n",
    "\n",
    "\n",
    "if __name__ == \"__main__\":\n",
    "    main()\n"
   ]
  },
  {
   "cell_type": "markdown",
   "metadata": {},
   "source": [
    "2. We can try to use q-learning in this maze game now （what is q larning https://www.datacamp.com/tutorial/introduction-q-learning-beginner-tutorial ） "
   ]
  },
  {
   "cell_type": "markdown",
   "metadata": {},
   "source": [
    "Considering that training models in the game is slow, I decided to use a maze generator to generate mazes for training\n",
    "\n",
    "Gymnasium : https://gymnasium.farama.org/api/wrappers/\n",
    "\n"
   ]
  },
  {
   "cell_type": "code",
   "execution_count": 4,
   "metadata": {},
   "outputs": [
    {
     "name": "stdout",
     "output_type": "stream",
     "text": [
      "['CartPole-v0', 'CartPole-v1', 'MountainCar-v0', 'MountainCarContinuous-v0', 'Pendulum-v1', 'Acrobot-v1', 'LunarLander-v2', 'LunarLanderContinuous-v2', 'BipedalWalker-v3', 'BipedalWalkerHardcore-v3', 'CarRacing-v2', 'Blackjack-v1', 'FrozenLake-v1', 'FrozenLake8x8-v1', 'CliffWalking-v0', 'Taxi-v3', 'Reacher-v2', 'Reacher-v4', 'Pusher-v2', 'Pusher-v4', 'InvertedPendulum-v2', 'InvertedPendulum-v4', 'InvertedDoublePendulum-v2', 'InvertedDoublePendulum-v4', 'HalfCheetah-v2', 'HalfCheetah-v3', 'HalfCheetah-v4', 'Hopper-v2', 'Hopper-v3', 'Hopper-v4', 'Swimmer-v2', 'Swimmer-v3', 'Swimmer-v4', 'Walker2d-v2', 'Walker2d-v3', 'Walker2d-v4', 'Ant-v2', 'Ant-v3', 'Ant-v4', 'Humanoid-v2', 'Humanoid-v3', 'Humanoid-v4', 'HumanoidStandup-v2', 'HumanoidStandup-v4', 'MazeEnv-v0']\n"
     ]
    }
   ],
   "source": [
    "import gym\n",
    "from gym import envs\n",
    "\n",
    "# 列出所有可用的环境\n",
    "env_specs = envs.registry.values()\n",
    "env_ids = [env_spec.id for env_spec in env_specs]\n",
    "print(env_ids)"
   ]
  },
  {
   "cell_type": "markdown",
   "metadata": {},
   "source": [
    "Let's generate the maze.  \n",
    "2. 1. Load useful packages (code from src\\gym-maze\\gym_maze\\envs\\maze.py in https://github.com/rpinsler/gym-maze.git)"
   ]
  },
  {
   "cell_type": "code",
   "execution_count": 7,
   "metadata": {},
   "outputs": [],
   "source": [
    "import matplotlib\n",
    "matplotlib.use('TkAgg')  # avoid non-GUI warning for matplotlib\n",
    "\n",
    "from IPython.display import display, HTML\n",
    "\n",
    "from gym_maze.envs import MazeEnv\n",
    "from gym_maze.envs.generators import SimpleMazeGenerator, RandomMazeGenerator, RandomBlockMazeGenerator, \\\n",
    "                                     UMazeGenerator, TMazeGenerator, WaterMazeGenerator\n",
    "from gym_maze.envs.Astar_solver import AstarSolver\n"
   ]
  },
  {
   "cell_type": "markdown",
   "metadata": {},
   "source": [
    "2. 2. example of Solve maze with A* planner and generate video animiation (code from src\\gym-maze\\gym_maze\\envs\\maze.py in https://github.com/rpinsler/gym-maze.git)"
   ]
  },
  {
   "cell_type": "code",
   "execution_count": 6,
   "metadata": {},
   "outputs": [],
   "source": [
    "def solvemaze(maze, action_type='VonNeumann', render_trace=False, gif_file='video.gif'):\n",
    "    env = MazeEnv(maze, action_type=action_type, render_trace=render_trace)\n",
    "    env.reset()\n",
    "\n",
    "    # Solve maze by A* search from current state to goal\n",
    "    solver = AstarSolver(env, env.goal_states[0])\n",
    "    if not solver.solvable():\n",
    "        raise Error('The maze is not solvable given the current state and the goal state')\n",
    "\n",
    "    for action in solver.get_actions():\n",
    "        env.step(action)\n",
    "        fig = env.render()\n",
    "\n",
    "    return env._get_video(interval=200, gif_path=gif_file).to_html5_video()"
   ]
  },
  {
   "cell_type": "markdown",
   "metadata": {},
   "source": [
    "2. 3. Simple empty maze (code from src\\gym-maze\\gym_maze\\envs\\maze.py in https://github.com/rpinsler/gym-maze.git) \n",
    "\n"
   ]
  },
  {
   "cell_type": "code",
   "execution_count": 83,
   "metadata": {},
   "outputs": [
    {
     "name": "stderr",
     "output_type": "stream",
     "text": [
      "MovieWriter imagemagick unavailable; using Pillow instead.\n"
     ]
    },
    {
     "data": {
      "text/html": [
       "<video width=\"640\" height=\"480\" controls autoplay loop>\n",
       "  <source type=\"video/mp4\" src=\"data:video/mp4;base64,AAAAIGZ0eXBNNFYgAAACAE00ViBpc29taXNvMmF2YzEAAAAIZnJlZQAACcNtZGF0AAACoAYF//+c\n",
       "3EXpvebZSLeWLNgg2SPu73gyNjQgLSBjb3JlIDE2NCAtIEguMjY0L01QRUctNCBBVkMgY29kZWMg\n",
       "LSBDb3B5bGVmdCAyMDAzLTIwMjQgLSBodHRwOi8vd3d3LnZpZGVvbGFuLm9yZy94MjY0Lmh0bWwg\n",
       "LSBvcHRpb25zOiBjYWJhYz0xIHJlZj0zIGRlYmxvY2s9MTowOjAgYW5hbHlzZT0weDM6MHgxMTMg\n",
       "bWU9aGV4IHN1Ym1lPTcgcHN5PTEgcHN5X3JkPTEuMDA6MC4wMCBtaXhlZF9yZWY9MSBtZV9yYW5n\n",
       "ZT0xNiBjaHJvbWFfbWU9MSB0cmVsbGlzPTEgOHg4ZGN0PTEgY3FtPTAgZGVhZHpvbmU9MjEsMTEg\n",
       "ZmFzdF9wc2tpcD0xIGNocm9tYV9xcF9vZmZzZXQ9LTIgdGhyZWFkcz0xNSBsb29rYWhlYWRfdGhy\n",
       "ZWFkcz0yIHNsaWNlZF90aHJlYWRzPTAgbnI9MCBkZWNpbWF0ZT0xIGludGVybGFjZWQ9MCBibHVy\n",
       "YXlfY29tcGF0PTAgY29uc3RyYWluZWRfaW50cmE9MCBiZnJhbWVzPTMgYl9weXJhbWlkPTIgYl9h\n",
       "ZGFwdD0xIGJfYmlhcz0wIGRpcmVjdD0xIHdlaWdodGI9MSBvcGVuX2dvcD0wIHdlaWdodHA9MiBr\n",
       "ZXlpbnQ9MjUwIGtleWludF9taW49NSBzY2VuZWN1dD00MCBpbnRyYV9yZWZyZXNoPTAgcmNfbG9v\n",
       "a2FoZWFkPTQwIHJjPWNyZiBtYnRyZWU9MSBjcmY9MjMuMCBxY29tcD0wLjYwIHFwbWluPTAgcXBt\n",
       "YXg9NjkgcXBzdGVwPTQgaXBfcmF0aW89MS40MCBhcT0xOjEuMDAAgAAAA2FliIQAEP/+94G/Mstf\n",
       "IrrJcfnnfSytofUCEDFQO0TbpSAAAAMAAAMAADBUY4sH3ay4SnAAAAMCdgBpAmIUgOoLgQCzVfwm\n",
       "v+QAKUn/230uXRV6N8WJhZXhbRRL7FQtxQTaJOLaNIQARKUzN5ixd7FEkBtBKoLiGhl/ybHFpkhX\n",
       "yMcviDA6TWAA2u8PQO50+pvvq77ebEYm1ZPT+kVt+Nu6b2E84OoALyog2o0k3aXgXeJ/2rBiW3v9\n",
       "X02D71UfU5AC5QDvi6VZ0pcOosmZ/rJmvoSp6sRhu+ZJGTQWJ2i8fWbmYzhvBnzc1dJPoC7bG6T3\n",
       "KumjUMMd8jiMFuAAkgVodIRE/gjPIj6r/6XWMq4d25t8cfJhJoKrVEX+6C8LGJ9jCl8blwiNenHN\n",
       "jEDqVcpplzcYODj082/Mpr8eEsaUAtz1wsBZglqSMnuD54RucQ16cZ8jnCLJdHM2xFEh5PclyZx7\n",
       "o04K9bVPVGAEdMFq6K/tAkWhxOF3wjvuNuK6K1s9qevQx4uSrql+mlzkeG4skP/bt9LZ+uD5kC3g\n",
       "Kdd6QlJqOTS6h2h7zet/nd7UczHQbWVGV8Z1HICcXGnSueh87BWXkUc8I1UYbpMuh8wUKopCKwCU\n",
       "vY/UMtppk+Cf7ZGBXsL8V4KltMvNX81meE0uHvG9fHYAZIiR7CPOTahS2ZZqpJZXDQqaQyOKPf+z\n",
       "pqKCEDf1vfWnf1ON+v13EO/X196aSNVg8aKVNoc41Rtqpi5/fAPum9lfeQtGukF79BHDjVA7aN+K\n",
       "MNTzAr1xkLJ5rJywJ8ZqYQ+STFgiXZ3aS32YrIJY4W9nHLy9zB+IejMkHoocQWHxPhalG4HfYRJw\n",
       "yk+VbQYZJ/vzsNL/+Efw9iIq7gWZgsE1KFn0G5+jmtfPZwZ3pKYs3oEyl7cb8Fdmwqov/KNNIpog\n",
       "LfuJM+QAr/YGYLGxgoiSO4OA/K2kDmpyft2uAWCuou0kKfuESfhR/h40/6g1iM1jEIcyYso/OQd2\n",
       "jL0aBpDylgIwGiYF01fFqElqtg/DyleShcgfLdeBktxwer2Yx1KU+cyw46Q3V+oBVP2RZkIH45ow\n",
       "N7jmuDwFjkfEQBMZUuGYuFPGsJ0DYGc60Me5r9SYkm/ifywAAAMAVBK1AAADAAADAAADAATVAAAA\n",
       "rEGaImxD//6plgAAAwBZvhW14eoJo7NhxFLpWWCMyiAAAAMAAJcpAANu0r/H8y/gAF0TXf6+YNg6\n",
       "TIr/jAOHvrm0VdPVy0VHF487nq/gQmdi5ho1nuagIjaO9plM6a6n5h06DAdu0XXD2/KoMNHTujYG\n",
       "1lEj1KzcC4Tmiuh7kPxEyl1p/ri3fajbKT+UAyE+4jpkh0qsBXVAJqEV87Ns7ZnFuwZ0/E2C4RVk\n",
       "gh4AAABmAZ5BeQ//AAADAB8MIT9Bst5oH3OaucT9qnVu9BqAAskykAHP9Z+mdAW/4zUBc8GrN5jg\n",
       "T657RCdpB93vgc+GQLPFRM1YGmZ7vEvVLidZIoPNXPGtWzlca6ZlK5tMqJU2hhoCQ4PTAAABHUGa\n",
       "QzwhkymEEf/+tSqAAAPV8fMldNg6qzW2lVpQNKpe/tAAo4ACbevp+YCiJgmu8pt9yLa/8GuzICYo\n",
       "P//f8CBXKTIoqh+Auv4F8uJbfXW7gxzdHS0JnN5lef/i+AjC4/IAEMReatYHfRscKcb4aAJZh2dU\n",
       "qCCQyy7vt/aTbRr2iRgGWGiyW69sPv1HxrZcGzlLw4Lt/nuCQejGovwEaRj29/bBBpqXRd7Vln4u\n",
       "rQiPAFlAAApK5AGmxl46xetVRyD0rRGnWMfu1RFECScX51ONM4sWluzwHy4CMcwN8YwgWayxouAQ\n",
       "SLh7yZ/iu/3VDsswQQave6B0FdoKDBuYEICCskknTjqgha3uoPCtNzu7Bh5IkR2qfwVr0AAk4AAA\n",
       "ASFBmmRJ4Q8mUwIIf/6qVQAAAwAqXLUPpbwAcblP/xt5ERF9gUAaM54i71BpK8Ys17nE54yopCUL\n",
       "h0yEGHQ2lH8ikO/9AeX6G5L6pp+5dNe6+2l1qo19HkDbZdj00OjCrFSUmmxEo5RfNhQCIQ//jZrQ\n",
       "sUq8cACoW1Tt/a8BXplmTyh2nJaB2vJbPygZUCURBdmDRx5c3jNjmw71kwj6AU53sSbd7h0WYYkH\n",
       "g5hf+6WAtf/2eA2xE5buiNGvFQA2jq2DAb0FKITntPoKwbRBr50FGbHwv1uMDPQXLPRviBQuleuG\n",
       "RgZFaG04Kh5kzHN3YxCk63vXBcgK6rGWu4WQCQtk8LL2Nr5Ghu6s8DDTvCgQvWgjpWRecwWf7Dbl\n",
       "Yw+8IA1pAAAATkGahUnhDyZTAh///qmWAAADAKX8K2vD1BNHRmimKjSGVRpr8WUaVyrAABIUALwo\n",
       "qRB71zJ+D7i1IrtQAXnjJa5YS2PnfvevDvLPs1gBDwAAA2ltb292AAAAbG12aGQAAAAAAAAAAAAA\n",
       "AAAAAAPoAAAEsAABAAABAAAAAAAAAAAAAAAAAQAAAAAAAAAAAAAAAAAAAAEAAAAAAAAAAAAAAAAA\n",
       "AEAAAAAAAAAAAAAAAAAAAAAAAAAAAAAAAAAAAAAAAAACAAAClHRyYWsAAABcdGtoZAAAAAMAAAAA\n",
       "AAAAAAAAAAEAAAAAAAAEsAAAAAAAAAAAAAAAAAAAAAAAAQAAAAAAAAAAAAAAAAAAAAEAAAAAAAAA\n",
       "AAAAAAAAAEAAAAACgAAAAeAAAAAAACRlZHRzAAAAHGVsc3QAAAAAAAAAAQAABLAAABAAAAEAAAAA\n",
       "AgxtZGlhAAAAIG1kaGQAAAAAAAAAAAAAAAAAACgAAAAwAFXEAAAAAAAtaGRscgAAAAAAAAAAdmlk\n",
       "ZQAAAAAAAAAAAAAAAFZpZGVvSGFuZGxlcgAAAAG3bWluZgAAABR2bWhkAAAAAQAAAAAAAAAAAAAA\n",
       "JGRpbmYAAAAcZHJlZgAAAAAAAAABAAAADHVybCAAAAABAAABd3N0YmwAAAC3c3RzZAAAAAAAAAAB\n",
       "AAAAp2F2YzEAAAAAAAAAAQAAAAAAAAAAAAAAAAAAAAACgAHgAEgAAABIAAAAAAAAAAEAAAAAAAAA\n",
       "AAAAAAAAAAAAAAAAAAAAAAAAAAAAAAAAAAAY//8AAAA1YXZjQwFkABb/4QAYZ2QAFqzZQKA9oQAA\n",
       "AwABAAADAAoPFi2WAQAGaOvjyyLA/fj4AAAAABx1dWlka2hA8l8kT8W6OaUbzwMj8wAAAAAAAAAY\n",
       "c3R0cwAAAAAAAAABAAAABgAACAAAAAAUc3RzcwAAAAAAAAABAAAAAQAAADBjdHRzAAAAAAAAAAQA\n",
       "AAABAAAQAAAAAAEAABgAAAAAAQAACAAAAAADAAAQAAAAABxzdHNjAAAAAAAAAAEAAAABAAAABgAA\n",
       "AAEAAAAsc3RzegAAAAAAAAAAAAAABgAABgkAAACwAAAAagAAASEAAAElAAAAUgAAABRzdGNvAAAA\n",
       "AAAAAAEAAAAwAAAAYXVkdGEAAABZbWV0YQAAAAAAAAAhaGRscgAAAAAAAAAAbWRpcmFwcGwAAAAA\n",
       "AAAAAAAAAAAsaWxzdAAAACSpdG9vAAAAHGRhdGEAAAABAAAAAExhdmY2MS45LjEwMA==\n",
       "\">\n",
       "  Your browser does not support the video tag.\n",
       "</video>"
      ],
      "text/plain": [
       "<IPython.core.display.HTML object>"
      ]
     },
     "execution_count": 83,
     "metadata": {},
     "output_type": "execute_result"
    }
   ],
   "source": [
    "maze = RandomBlockMazeGenerator(maze_size=6, obstacle_ratio=0.0)\n",
    "\n",
    "anim = solvemaze(maze, action_type='VonNeumann', render_trace=True, gif_file='src/gym-maze/data/simple_empty_maze.gif')\n",
    "HTML(anim)"
   ]
  },
  {
   "cell_type": "markdown",
   "metadata": {},
   "source": [
    "2. 4. generated maps (no footprints)\n",
    "\n",
    "ps:  There was some problem with the path display, I spent 2 hour without fixing it so I gave up, I ended up writing my own version without the path display.   \n",
    "ps2: The problem should be in src\\gym-maze\\gym_maze\\envs\\maze.py render function.  \n",
    "ps3：To make this maze consistent with the maze in the game I used 15 high by 25 wide"
   ]
  },
  {
   "cell_type": "code",
   "execution_count": 11,
   "metadata": {},
   "outputs": [
    {
     "name": "stderr",
     "output_type": "stream",
     "text": [
      "MovieWriter imagemagick unavailable; using Pillow instead.\n"
     ]
    },
    {
     "name": "stdout",
     "output_type": "stream",
     "text": [
      "[2, 2, 2, 2, 2, 2, 2, 2, 2, 2, 2, 2, 2, 2, 2, 2, 0, 0, 0, 0, 2, 2, 2, 2, 2, 2, 0, 0, 0, 0, 0, 0, 0, 0]\n"
     ]
    },
    {
     "data": {
      "text/html": [
       "<video width=\"640\" height=\"480\" controls autoplay loop>\n",
       "  <source type=\"video/mp4\" src=\"data:video/mp4;base64,AAAAIGZ0eXBNNFYgAAACAE00ViBpc29taXNvMmF2YzEAAAAIZnJlZQAAH6RtZGF0AAACoAYF//+c\n",
       "3EXpvebZSLeWLNgg2SPu73gyNjQgLSBjb3JlIDE2NCAtIEguMjY0L01QRUctNCBBVkMgY29kZWMg\n",
       "LSBDb3B5bGVmdCAyMDAzLTIwMjQgLSBodHRwOi8vd3d3LnZpZGVvbGFuLm9yZy94MjY0Lmh0bWwg\n",
       "LSBvcHRpb25zOiBjYWJhYz0xIHJlZj0zIGRlYmxvY2s9MTowOjAgYW5hbHlzZT0weDM6MHgxMTMg\n",
       "bWU9aGV4IHN1Ym1lPTcgcHN5PTEgcHN5X3JkPTEuMDA6MC4wMCBtaXhlZF9yZWY9MSBtZV9yYW5n\n",
       "ZT0xNiBjaHJvbWFfbWU9MSB0cmVsbGlzPTEgOHg4ZGN0PTEgY3FtPTAgZGVhZHpvbmU9MjEsMTEg\n",
       "ZmFzdF9wc2tpcD0xIGNocm9tYV9xcF9vZmZzZXQ9LTIgdGhyZWFkcz0xNSBsb29rYWhlYWRfdGhy\n",
       "ZWFkcz0yIHNsaWNlZF90aHJlYWRzPTAgbnI9MCBkZWNpbWF0ZT0xIGludGVybGFjZWQ9MCBibHVy\n",
       "YXlfY29tcGF0PTAgY29uc3RyYWluZWRfaW50cmE9MCBiZnJhbWVzPTMgYl9weXJhbWlkPTIgYl9h\n",
       "ZGFwdD0xIGJfYmlhcz0wIGRpcmVjdD0xIHdlaWdodGI9MSBvcGVuX2dvcD0wIHdlaWdodHA9MiBr\n",
       "ZXlpbnQ9MjUwIGtleWludF9taW49NSBzY2VuZWN1dD00MCBpbnRyYV9yZWZyZXNoPTAgcmNfbG9v\n",
       "a2FoZWFkPTQwIHJjPWNyZiBtYnRyZWU9MSBjcmY9MjMuMCBxY29tcD0wLjYwIHFwbWluPTAgcXBt\n",
       "YXg9NjkgcXBzdGVwPTQgaXBfcmF0aW89MS40MCBhcT0xOjEuMDAAgAAABvNliIQAEv/+963fgU3A\n",
       "QO1rulc4tMurlDQ9UfaUpni2SAAAAwAAAwAAD/DNvp9RFdeXpgAAAwB+ABHAWYLWHUFwGtuU7Ijb\n",
       "/8wBxhO6begLm9n+Xj9IY41lrMoO9V83nGRXPDhkfh5EvqAXAGrAixvwLSvVAM/VPq/QKBWLVhO9\n",
       "jyU/ARavSK/4cU3sr2PuDv6oWdtkgmeKXwYt3cwTKC820yMgADISGNEd4sgZPe2cGFkFvQdupLiO\n",
       "bBSh8D1gTNqj2nmD/R9UaBuQxYgs1eZ+Qp4xJ+dtuMprIAGq1SnlLGMPddfGHdKl95KF4blKhfal\n",
       "tZKAQ+20jPxwGSckGpX9ldYT6pQw2yElecFQ1W/DHgvVxRwgF9M//FQZFftKFHiDYgXhZAW80d+N\n",
       "qgpP8/8FJeAAFqXjvvtOuzhfWldWEuAFiq2li/YRLVmjs6EDXjC6bRwJ1T44A8FmuFsRFwhjaoRC\n",
       "yZPW21yWR45zJJdN7NNQ4ebH7H+Sq6VVDkYDThAJDW+ess0IByLpiME+3KDk9VTwZCrY+lsf7rKx\n",
       "A49K/XlC+Icm374Q7V7Z8lZYFybhKgd6rn1/X8/96jM1qbvmW34EsnMIhcqFF1/geGtZ45hSJo9c\n",
       "2XkeguuK3j2IIWvL4pWnw8Qmq8e/I2N48xZ0QyuST7Jyjnht7aumLGjye6avm0POa8524AbrP7nf\n",
       "Qf2EoQp6nJfr3iD9zeqNSu0IJZQEsktK9VmyjoBGEII2jMxMVUj/3h5ctz3wOr2e0/4JJ37mcagR\n",
       "Hyk1Lfpd8ippqDFzT/h7Qvs+gZW+s8ZZxGFLRRH2P4mH+PmmsecHZbFEfcbuQD0GxSzsGXI+waH/\n",
       "JNtIVl+bi12xdXCbH4CwxPihHZBdcjepqYFoD+hL769jI2fnXx4bWvbnF1Yj8LumGJ72/ahiLhuX\n",
       "4zYc5klpKSzyCF++p+V2UXbGovI0tHNEXUMLIRFHSdXMI3tSx+wOZb9V5/XXHFwrgwjWbFjbPtmF\n",
       "n4jCv4kYEwISBpYEWxGPZxEubH7GVDVR9VBWQzUliOZEQCaxwmD6SNV4Hng8TBiYFwaEPxYPWGcq\n",
       "3YzK/eyeCJTSwV+B5dQuzr4OVkzePJJ5dO9t9UvabXh5kEF8rmPWXi6EVaAAVku74xN+tbI4qmA8\n",
       "TBTKBQ9rlfCGtT5yXT0ntvHujy0Th2MB8v7sHVBw5bIWWOB7ABPqj7qWv4w74a64ERtUjBQpR7yK\n",
       "6kJ4uwk47/Ddm1s10T1bP6wCNQTu8qcwujWycKuwjd2cPA4n8kZLP/RJIflqF1jSPbk4JK4i+Rf3\n",
       "6Os2VaZwbZMDP+Rfa6OI39/SRUS+z1RYKrGtdp4ZLudrB2452+bWmKMaQXANBOrscZm/39pkFZr9\n",
       "JoOMO1NEbPuSw6jsviD/Q/1TfbjNTxSLQmZjbBfN+Nm6EOgou+vBia03pMvUrnf2vbEUqXk0nq2o\n",
       "KgGvVXedOOU0b289rY24iFt0LDTFfILSloSNUmv4A+CIl2mgpEqxxJMUFWPA0424xnDZ/IeYxbhc\n",
       "/glLUvclZxJXJqn59t4gA6JbmZw7u/slmQBRXBX1S0vxlGQym1/EjGdN4efMioIzz1mBMRLdBm6C\n",
       "NSM3SC3I6d/dBogqJFZvpsSlBn+FUJ4SRLvJ45MCOMC/Bde7fvUmjXpiBFkb1Lua/K/PauEIvSin\n",
       "kK3yyG8HkiFsc2A66KmKPZp75GfmGaESRhtRfPV+OL07SZqHXaWKKKeB+QdX2VPN53mSAPN8yUxo\n",
       "X7CPKafYIWJyC590HmBhNCX4riwCbYG34b4bQzMkMukk1wFF8C0+KbSi1t+LyheeJnyJepGy5Gwx\n",
       "p2RjnnSe7zj0200CCGBeSAX9ohnMFo4c7G46B6hufGzfJQGMLr/mK804wvIJzrqq+3BKQfeYDk48\n",
       "WCG5yR8z5qGBEJBrNYLTxADLnrmpAvHDS96m3kn/ht+F+90U03yY87Sujy+FQBJXmaIlc/coxsns\n",
       "FyH84JoFlKK5HNlgh1AxP3Qo2uXnj7EfG8GMBlCB9VNs0n2mXAqFLkyySivyygonZYuPzTdCr+bV\n",
       "rSDBB4bAA7G43jnj3qly25w22sv5bRnbSIkXESfXG1rwBzAj9wIvH8DO7KIYVA46j2YL4Ody5iio\n",
       "/LeWvG5Av4uVY9yUL0FAaiH6UtGJGyNa7vISZoaglVzrHcxX9HyLHHuxsChBzxxA8xYuQhV6e0/A\n",
       "FIAE6BadzdFMYYfgDUREGV7/hNUFsXj1quizvSvDe+fRgBvFSr13jMyCLldxOgDDgAAANbdwkJIo\n",
       "Ssdeai8gNvYpkDXPZ82JazxsbFwB/sDUdBIE1ZsMpq57wjdcj94WAAADAAADAAADAAADAAADA4sA\n",
       "AAJjQZohbEEv/rUqgAAK79Eii6m5/H/kqHwwC05Nfx1CLXs03joy8c/ioyaphZjmtc4YxCgwyTI+\n",
       "3+4C50A4WQAHLRTpx0a////sU6cHRJqDAfToAKi1M6X9/1IlfPMBsnTF6VOq9v7VrIxND/oyNLwS\n",
       "whfHuNG+dL6f2Vk+TSkdNUn1qkaX7Nzfq6tgKc+pDRpFSBzuUnBhZYE0S1n3TI4D3Y8THkxuNr7h\n",
       "Ces+mpUjcTFAGKKQN/I7IVGkvZfHhUs3WycNzWLkP4lCev/8IWBImTqvYi/dZvHlWZ5rzXXUdyGj\n",
       "AGmEMBbtNazl2rguQepRmWWEShEVc2w8PKHvY4V27KXoKog1yjUKuIeId6Ky8OjCKzGCLNquBzxY\n",
       "Oy9p6JFbqmy5y6OnRBHeGRpLNOjw0YMPAsBfQNsKZqNqj9cOJ/HashnDI5RjYIMciNAfiWBgFnSv\n",
       "hyCbDL6oAgGUIFeBid9itFbHSx/cwf5aFw5YbQnGG35co3pSyA2gl3/cNd1GDACz4zltOsh5PJyY\n",
       "X5Mb7TnAP9cg0JKZfHcUa9mMrIk1K6FGBghoeHCYQ6v6oNEcVv2vxppMNqNhfjC7PbLQvfsJJINl\n",
       "kKAe+inGtu1efIVHIfzING1XpfCe/CPQDYTD5AlUvDR8qoTy54g1Ifusrv7W2Sce0jw/Qqyoh6f8\n",
       "F8M+BsfvyxFEthyeNPTVMwQtdCXJQhd/xfSP7rWCW9JH/WiZeMft0xV8rsFJJMIpTj60eVo39omF\n",
       "MBcNrS7rJY+TfXY11Z0Q4ZwDMpA/J6eDwv+3v8c4sqIdSqpC5isX8UAAI+AAAADXQZpDPCGTKYQS\n",
       "//61KoAABGdxcox5xKiACfMWPMjxElv7fyrTvLWaOgsfPdcq0ph2vIO5BrXoHem9J8fg3pRWZ+RC\n",
       "B4AeVozrIfvPU7/6f5V5KpkdY/ASdvzABvCmYZgZudCCaPnSEA/ZfyQUyho8wrouQtjQe93/hVii\n",
       "HkQBcYsR1CxOun46gq+G4MTujcm6DZiYdJlVXbu5ZekbWR3NGsnW4b/a98aw5BiZW2zGQNoEuSgl\n",
       "Lo2++WlX43H0wWdlpxIsSTSCj0URvL2XKBewIL4vLigACtkAAACHAZ5iakP/AAANryRIOBpe61XA\n",
       "u9HDvmADpiyXWL0GeF96ZUh/vt8da1trfEH43GdUMuCeUtciGf6GhdxaWPMzcukSvit7L9J2Zh+7\n",
       "Xj7xlUtF636IkVkpoCPXLsZ6RxDqcCgRj+iBU3fciPPmiDfD/E4sjORnaMFOLDTWmirsSdjbhPwA\n",
       "ACkgAAAAq0GaZknhDyZTAgl//rUqgAAEYQxhtvuIKdSOSNY9BuCQU5mCIWAhIjQUJjAAlUioseaK\n",
       "SqAOAej7vJQY52ELYv4QfA5RABtJpj/6/gDASe7lO4CfB5abcDt/QuEyXkxEb4nnIMH1nCDtCLeL\n",
       "dG+r20L+Ok60si3caiwINbAJEleXGQvoC6FF78yr7mp9JN8z58FtxhJbJx6ElovvzS6FPzZ/CoKm\n",
       "0tnlCcAHzQAAAE5BnoRFETwQ/wAABYfnTJ5bzizaRkLgKL6hfvzmaNRmDJ7wABwnwA4XH9jWhMZs\n",
       "LFjUpeAPFUu5Wv1cs3J45psr2XoAHDsde+y8AAADARcAAAA0AZ6lakP/AAAKyTn2ICw06AO7pao3\n",
       "lWYUs8tc1nP5Kn4kigA3Rq96HzKPhx1eCn3d8cABqQAAADxBmqdJqEFomUwIJf/+tSqAAAADABAf\n",
       "vYNPuF9h/p5DwATg9BTpUsYljfCvgYs720avuujtboGm0BSAMCEAAAA1QZrISeEKUmUwIJf//rUq\n",
       "gAAAAwAQH72DT7hgguDzfbp06PBMW5FTQxWj/pAHHjbqSYqvNKIAAAAjQZrpSeEOiZTAgl/+tSqA\n",
       "AAADACcIZEv9hoW6TG8JqDWAImAAAAAtQZsKSeEPJlMCCX/+tSqAAAADACcIZEw7ZBDbDGGPMf3W\n",
       "hpom4yVKRTZLcfGxAAAAKkGbK0nhDyZTAgl//rUqgAAAFlMPx4AOCBDO41AZNM8PbeNJevHtvBAE\n",
       "7AAAACJBm0xJ4Q8mUwIJf/61KoAAAAMAJwhkTHkRvYFgbu54AIuAAAAAIUGbbUnhDyZTAgl//rUq\n",
       "gAAAAwAnCGRMeRG9gXrPzGAHHQAAAM9Bm49J4Q8mUwURPBL//rUqgAAEZ3FyjHnEqIAN7SyNIzXv\n",
       "xGBmON6neR1nnzfP3uVaUws8/15txaq7nHgqRTAXhNp9t5KbxPJ/Bz0BGkY/xohqenV6jBDGRi/n\n",
       "UefS94TH9U6xX0tpp+rYe3QXf689dSYoQaHPWWKnbF2EkD1M0h1B0S1WX1nGIt8z0XcrOWhImjzd\n",
       "1yE20lnzWtHYzf9lXIjwy5Ba181XT5Z22V7XbeA+oBNap+JBlKdp8eZl79Pe3RWEN8MjWy5WkWI4\n",
       "AvMAAABgAZ+uakP/AAAhsG0FoF1oTyeCEHJ9Ux6qYyVZKM8ZEG2GM3X4dvbdE4uLmyPXIHHeJMxP\n",
       "9z50gPaDRmT+gA6FeLSfyBDNp+DDc64yqWi8yPUTf8QxCRbvmyXOAA/eAAS9AAABhEGbsknhDyZT\n",
       "Agl//rUqgAAFC+iQ23s2vQ0TrtDhsKbLdjurQADkAAWIAyoyzFH63L+AYARCf9v/l/AeNKQNxZPV\n",
       "3dYY6kYmHWNN96n5nnaU3B0ogxEV/xcmYdjLsowThHZu5DsbLJgwxO5WP3SRXjCIFD3XePvsoJwA\n",
       "Vbo6TM8T+Hp4JxlR8iHseXGgG0VW1BJdlkZHD7SruGckx3/1bQqjys4ctjuf0d9JRQJTXVsbKRUP\n",
       "Q2wf+E412mC2UWtyCSdYkk6osAS8BgAWasSYp9v7eMPnn0enk4Reb5RtcO2bXmIyhMmD6gy4/Hne\n",
       "4uPSJKU8qDykQ7VM6/P+vrlk9fnx2y3m+vbsfe/FysRpKREc1PreJ+AS9rgVaA33vORtJ/vcoL37\n",
       "y/97Lf3FeRvDALVg4CBhHOs1ZlsbaRdLwosIaybeWmTujL4LJNTalpRJttg1oyuN/f4YCRbuBt6x\n",
       "I2G9SSQCwRoJ1BYIv2jP8ImSJA7DTUMhzNZeXabVPz8V562CLqQAAAEGQZ/QRRE8EP8AAA8uqaXv\n",
       "E89jyLu3ncQwoPJTpbvrWByOvuxDZWO5kuzi8daSVQHDgoIAEPub//n8CYXyt1m4FZKPaCcHTL/Y\n",
       "R+gASCz+B6TUH+40rKEMDC/dqcPrCssZZzZL4MSLQFUKgCp7TWLzqwJLYT6giNbDli5uYvyrP9Rp\n",
       "Rsy7xiPdvr/0r/+yNusE4Ntto2Bqam3Ftg9jg1kJQPrl0UvNhaDMet+rmLqd6fSdEtpdOvIshxWH\n",
       "cdM3dORB7iVLoCS/HnZ58lumgX8SfY7S8jzpWC2gWjSJpe9hmEeKcWJ16CePhns2tVSvuTIlzcpY\n",
       "1suJ6EShtHu7FqEjeCrVVXAG9AAAAHgBn/FqQ/8AACGwbQc9QqrkMibg858PwVBuI1YACB+ZLvXk\n",
       "tDIpYzuz+/X5W8AHLfO0Uv2oAP05K0QLc0AK3HjdFucFfuwRTMHtXoznDOVHt4iRMNz2vA6bA9FM\n",
       "Fx6YxHBCgMn8KyyPwucFQ84IobzbaNQHEIeAfMEAAAEiQZvzSahBaJlMCCX//rUqgAAFA8NYcbE7\n",
       "n8f/RK+YBdu/wgdFVvopj5OkmRD7rpoGfYJeFYuyLJEwAAIaZJZAAAGR1wAA2BDedvetkCaf8Xew\n",
       "Mu8n/8/4E7TfW45BYKUjy6Fu48q7oIKnO/ixDzaQqvd4vhn0d+f8zEHO+/FLdLX4w05YS5RcJt2r\n",
       "67q8xWfx/1mwJrlD4LdHkOD/5u3kIHjNieugya1E2EoFIUbaL76nEGGfp8VaVDfDBmmS5QCoXLQU\n",
       "qQNt89meydZX9RKLBmSIg9vCQ4YGb/8K5AGBWAS2xXi9pRtwZI6GDNFPIkKbbVsMRLm1+8nils7j\n",
       "g4rH1TCsvH3oQwYv8Jhf64yjMbMZ4IsLotnQPx0NfejI2PSyD5gAAADKQZoUSeEKUmUwIJf//rUq\n",
       "gAAABnqjWKXsCcT0xq3YMBSz53AuIlwG3MAFoxV/7/AiTCjYq+cE9km+YS/IlIWxyq1kAxI9fBG+\n",
       "h0G0YV7Rw0PRO/w/NJdnUVzof9lUgybF/BRFrLQuUYKSKl+2AOeP4ro6ZJa5v6Dqo7FIHRBTFWN+\n",
       "2rFi7Qu14br2a8jkmQe+hOoQ/DyOtBAfhOzZ4Ua2mog8b/k/MFgC8+ewfrIEMCJ5p+6dqnspm4a3\n",
       "8WN+IPu5ZmgPotwk6XC79AAAAKpBmjZJ4Q6JlMFNEwS//rUqgAAAAwB9cflz+JP9qAB19/9ijQt4\n",
       "hM0B52lUYMUVL6FTS66KlgThkKDy6KYaCiFLGpyfvDn/xDAhnbvxiTMkEFFWkP8OrSnQkfsIC5ZQ\n",
       "jJDaE8FDqZWUP9KNQjKRwu626fh/Wf7dRYwIQxt0Iuhu3EPr/zn+dDJzayht4Q/E9WoWHMvdQNs3\n",
       "QbO97W0+x/LWBcFz2dzEiyoC2wAAAEUBnlVqQ/8AACFRIZABRzIiyV89HUAF6y4dXmFvsuR3rjEA\n",
       "eK3hN1QIxAId/CTueBoilBke3YIlhkoEumRf6TC6YdpLAtoAAABJQZpXSeEPJlMCCX/+tSqAAAAD\n",
       "AIA0NneIvccfgAWjMuHG0/m1x+Hf8qtNffDHg48587DzMRPEOgsNJBpuKa3JjY52NjPRkyx0wQAA\n",
       "AcZBmntJ4Q8mUwIIf/6qVQAACM76Yo+zhgIAV2/y2coKGpCF0+8XiiFsz4fuM0jEqVPLBG65lO8W\n",
       "6fAGJrfrbn9AFQKWKTbrGVmAKr7ddRStjzfMzY7ogwb8/XIH+gx/UBilwSkGUEYMY3G9pOxFRk+I\n",
       "ZuKv1romL8hVavJ6J2RDJDtxs4mwM21KzlVlj2TeRndW4thMDP/U1BDlcJxzJFfjmJ3eFMsgm9p0\n",
       "kmGKQ97jexZhpXfko+zsvioJJnQ1kUrCtWb2vxGs7fwemlWyBEoWXJbZJI7anvbqLdEmwiQClfNb\n",
       "1YYoSAe+9IzmOLiBlwa1rfGhr+h6/SuUH3rZ6lxXYr54DZxY0QS82hjCx6VgLU9OCGIT/OGsYHYD\n",
       "/zbx/lddSqbWnEnxYEnJQ1uko6+V0h7QvkzP+nfh6u0QoZiPpC7n95Gnahlx515aIy+LMeTeQ6oA\n",
       "rVUx6qmV2j32v/7K8F2llEUO0kRkBKOh9etk1JuT4G0AUu43yvT7H+DQEqD6Gd3xaZASyRf7FWjP\n",
       "+ENO2LKTEa19HGBco1Dd6cYhlawuXWWn4F8EFoH3CAaHEs4DWp1Z1PDZf5aLW1cjLglUEzQof7EX\n",
       "AAAAmEGemUURPBD/AAAPClT0+bDpGXcKE99tMtbBIqcgn8n5bu2AG1LMb3pE/X/f4eNbK2mDKHKB\n",
       "AzwNjpnR8vOyGE5QFI8HA2Hhd+NzsF4fFE8rpsxNHBggHgOW498ag8xWjNB//9bcnRJHsD3G3N12\n",
       "BL62Acxm9w6b60hJEdKa/GK4hgeRqdRzYEJkwu5DXwUPDu9URQ82MBwQAAAAeQGeuHRD/wAAIauV\n",
       "Io3cZMldxrxmZymPVUh6XCybsstsMZuqSLfRFGZmfkRTOKgw5HxMzSYdjoWLuTQAXggPKooAv+oq\n",
       "on6xCWks10H3jKpaL1v0RLnJB3J4ZpfU8l9yak1ka/t2iGADaWnZ4O6aY0pgAN1nZEyAs4EAAACH\n",
       "AZ66akP/AAAhsGzQCCZyvTxM+mHngBP/BaJucdx2s6u5Uw/St1uREADs0JH9z2d2srUF1qQq4oh/\n",
       "uGKITvcwD6U0s+6KQZ6s/Hu7Werruw3TPS/VkBDYwgYVCUOp6fVSt9iB+WJ64NlRQ6gxtghOz0Y0\n",
       "WWiWeUMQQIxzmY+gNh5ea61OACVgAAAA6EGavUmoQWiZTBTwQ//+qlUAAAMAIAsuwK+H7kD1JS1/\n",
       "1AU98AHxlkqVxA+oeUzRJSUyMSPKc1XwPCXOZySOScded4UGt9Qv8mPZwL7OQNCTnUw0HemIP/mU\n",
       "BxxTXor1l46D9iV9I4Hrh9AwgoXceQlJHgi6r9UNeAGIS3Z3QNw0XHqKsDrNh00OAyT+yH9ZT++B\n",
       "I7uxiuyttDDE2kVSpnxMCpwOwQfUMPPi8OhBysLCVybqQAPB4JJALV8FXohlr1mPpu8WQSFV5kDl\n",
       "UFAOpkMg7/m6dppX2dtMFrTcAVCXvhpJpvQwBN0AAACYAZ7cakP/AAAhsrP+VAuyidz0QjpSzgNq\n",
       "N91TEKMh4k+XWt3tNQHJ//oc0v0AF9cOvBkhI6YkjPfGUd2NCehdUs42kMPPDMomE3e257uGaG9V\n",
       "QVa23vr30A8V1hfbtXlVGr9rUImv+yY8DR8i+PSxOiTLKKM5VxBh/+uiCllPtVSdEorTiJWmMnOs\n",
       "41whVlVA/yk3ltoAH+EAAAFVQZrASeEKUmUwIIf//qpVAAAIzvp6ZAJrwAOIqFFk4QtP2S4+cdep\n",
       "fDp54Qg0RCV1SJOrW4LNTLvhQzo6QsoF/xL19vRjADS2xnFdrwsNlC68MuHofcQfXRNqJysL4YeR\n",
       "nuZn+OXYWnMcr0yDpWHaJPciPiFqjWXfiybCqQXF3ezkLLWARodfYsCI+EaccfihM+ePhxTVacKA\n",
       "M9ZpOdWoSEzIDFyTiEi8ZCSgQlDXvRsghY/3DjgkgnvHtXmMzk6/+/zc1jwB5ynNT4ethadf/0jR\n",
       "0XQvt99HcabZHdJ8AIXzgidMqVFCQfCPq3j2zWuVGKLXXv3lA5dkhske1wSk5GWinlAmT25FpQII\n",
       "F1+YgNsUzKjFPMe3n4xqIFt6us3Tu62iq2c07ZD/sTCX9ISueTAWGuykQXCPjsO34PF0v3OAz0uv\n",
       "BAs9cwXLVY5wCQeR81TAC9gAAACSQZ7+RTRMEP8AAA8uWbSr0O1V2BCxkQ7jbj1QBosuHsDRpytI\n",
       "M2zX9JgAfjbO/Bx2Wkl/hvKhEcUDKP/ccTNNAzKV5edqoypCZSxngroJcIHULyudl4HIx/2vRe0L\n",
       "MxfH0x/T4GIpELYgdOVZ/m+4fGcvMftSgC98tG1g8xz8nbNadTMDnLeLRQJPgSFOQDW4MWAAAABv\n",
       "AZ8fakP/AAAhsG5JGqzKWNxP0zNVVEW/2dXRkzOCdCPjBN7lEuHEQAdCIx3KSdpmSR/F9SFZOKAx\n",
       "WAR++m/a6JmHrSa3qTOpVsBmmwW0/2XuqTfs4FzwoD3/2kj+jp+vmsnUGTD2Oh4z5wmdKYInAAAA\n",
       "2EGbAUmoQWiZTAh///6plgAAVT4VxZe2Ve6J1WYCtp69mmE7bmE4woAAAEyAAAPjGKUOVv7P8AA2\n",
       "r75lpXNbFqMPaWoeVJboe8iPFxMBYaspMk16vQ1LRlGpZhFDvnaX9V2Pf9nwp/2K9LoJoSCCwxbK\n",
       "MRb+EYOMZorR7os0+2rEchFrNrUaqu0ePmYlHAX6TsotZdCTjGeHxBj7N/+wqEPEngv64ls/RHgn\n",
       "QKsh28Ko9jzTYLUFPnMV0D/FdaHaAxbF4GPJlaE/HbYSk8s2DepoWpV454BZwAAABHFtb292AAAA\n",
       "bG12aGQAAAAAAAAAAAAAAAAAAAPoAAAakAABAAABAAAAAAAAAAAAAAAAAQAAAAAAAAAAAAAAAAAA\n",
       "AAEAAAAAAAAAAAAAAAAAAEAAAAAAAAAAAAAAAAAAAAAAAAAAAAAAAAAAAAAAAAACAAADnHRyYWsA\n",
       "AABcdGtoZAAAAAMAAAAAAAAAAAAAAAEAAAAAAAAakAAAAAAAAAAAAAAAAAAAAAAAAQAAAAAAAAAA\n",
       "AAAAAAAAAAEAAAAAAAAAAAAAAAAAAEAAAAACgAAAAeAAAAAAACRlZHRzAAAAHGVsc3QAAAAAAAAA\n",
       "AQAAGpAAABAAAAEAAAAAAxRtZGlhAAAAIG1kaGQAAAAAAAAAAAAAAAAAACgAAAEQAFXEAAAAAAAt\n",
       "aGRscgAAAAAAAAAAdmlkZQAAAAAAAAAAAAAAAFZpZGVvSGFuZGxlcgAAAAK/bWluZgAAABR2bWhk\n",
       "AAAAAQAAAAAAAAAAAAAAJGRpbmYAAAAcZHJlZgAAAAAAAAABAAAADHVybCAAAAABAAACf3N0YmwA\n",
       "AAC3c3RzZAAAAAAAAAABAAAAp2F2YzEAAAAAAAAAAQAAAAAAAAAAAAAAAAAAAAACgAHgAEgAAABI\n",
       "AAAAAAAAAAEAAAAAAAAAAAAAAAAAAAAAAAAAAAAAAAAAAAAAAAAAAAAY//8AAAA1YXZjQwFkABb/\n",
       "4QAYZ2QAFqzZQKA9oQAAAwABAAADAAoPFi2WAQAGaOvjyyLA/fj4AAAAABx1dWlka2hA8l8kT8W6\n",
       "OaUbzwMj8wAAAAAAAAAYc3R0cwAAAAAAAAABAAAAIgAACAAAAAAUc3RzcwAAAAAAAAABAAAAAQAA\n",
       "AMhjdHRzAAAAAAAAABcAAAACAAAQAAAAAAEAABgAAAAAAQAACAAAAAABAAAgAAAAAAIAAAgAAAAA\n",
       "BwAAEAAAAAABAAAYAAAAAAEAAAgAAAAAAQAAIAAAAAACAAAIAAAAAAIAABAAAAAAAQAAGAAAAAAB\n",
       "AAAIAAAAAAEAABAAAAAAAQAAKAAAAAABAAAQAAAAAAEAAAAAAAAAAQAACAAAAAABAAAYAAAAAAEA\n",
       "AAgAAAAAAQAAIAAAAAACAAAIAAAAAAEAABAAAAAAHHN0c2MAAAAAAAAAAQAAAAEAAAAiAAAAAQAA\n",
       "AJxzdHN6AAAAAAAAAAAAAAAiAAAJmwAAAmcAAADbAAAAiwAAAK8AAABSAAAAOAAAAEAAAAA5AAAA\n",
       "JwAAADEAAAAuAAAAJgAAACUAAADTAAAAZAAAAYgAAAEKAAAAfAAAASYAAADOAAAArgAAAEkAAABN\n",
       "AAABygAAAJwAAAB9AAAAiwAAAOwAAACcAAABWQAAAJYAAABzAAAA3AAAABRzdGNvAAAAAAAAAAEA\n",
       "AAAwAAAAYXVkdGEAAABZbWV0YQAAAAAAAAAhaGRscgAAAAAAAAAAbWRpcmFwcGwAAAAAAAAAAAAA\n",
       "AAAsaWxzdAAAACSpdG9vAAAAHGRhdGEAAAABAAAAAExhdmY2MS45LjEwMA==\n",
       "\">\n",
       "  Your browser does not support the video tag.\n",
       "</video>"
      ],
      "text/plain": [
       "<IPython.core.display.HTML object>"
      ]
     },
     "execution_count": 11,
     "metadata": {},
     "output_type": "execute_result"
    }
   ],
   "source": [
    "def solve_and_render_maze():\n",
    "    maze = RandomMazeGenerator(width=25, height=15, complexity=.5, density=.5)\n",
    "    env = MazeEnv(maze, action_type='VonNeumann', render_trace=False)\n",
    "    env.reset()\n",
    "    env.init_state = (13, 23)\n",
    "    env.state = env.init_state\n",
    "    env.traces = [env.init_state]\n",
    "    env.goal_states = [(1, 1)]\n",
    "\n",
    "    solver = AstarSolver(env, env.goal_states[0])\n",
    "    if not solver.solvable():\n",
    "        raise Exception('The maze is not solvable given the current state and the goal state')\n",
    "    actions = solver.get_actions()\n",
    "    print(actions)\n",
    "\n",
    "    for action in solver.get_actions():\n",
    "        env.step(action)\n",
    "        fig = env.render()\n",
    "\n",
    "    gif_file = 'src/gym-maze/data/solved_maze.gif'\n",
    "    return env._get_video(interval=200, gif_path=gif_file).to_html5_video()\n",
    "\n",
    "HTML(solve_and_render_maze())"
   ]
  },
  {
   "cell_type": "markdown",
   "metadata": {},
   "source": [
    "3. "
   ]
  }
 ],
 "metadata": {
  "kernelspec": {
   "display_name": ".venv",
   "language": "python",
   "name": "python3"
  },
  "language_info": {
   "codemirror_mode": {
    "name": "ipython",
    "version": 3
   },
   "file_extension": ".py",
   "mimetype": "text/x-python",
   "name": "python",
   "nbconvert_exporter": "python",
   "pygments_lexer": "ipython3",
   "version": "3.12.1"
  }
 },
 "nbformat": 4,
 "nbformat_minor": 2
}
