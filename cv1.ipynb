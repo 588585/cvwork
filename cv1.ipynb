{
 "cells": [
  {
   "cell_type": "markdown",
   "metadata": {},
   "source": [
    "# Object Detection in 2D Video Games Using the cv2 Match Function in Python\n",
    "\n",
    "使用 Python 中的 cv2 Match 函数进行 2D 视频游戏中的对象检测"
   ]
  },
  {
   "cell_type": "markdown",
   "metadata": {},
   "source": [
    "my first Object Detection \n",
    "https://medium.com/@viem2377/object-detection-in-2d-video-games-using-the-cv2-match-function-in-python-ee8908fb8c53"
   ]
  },
  {
   "cell_type": "markdown",
   "metadata": {},
   "source": [
    "game in https://lagged.com/en/g/whack-a-mole-champ#goog_game_inter"
   ]
  },
  {
   "cell_type": "code",
   "execution_count": 6,
   "metadata": {},
   "outputs": [],
   "source": [
    "import time\n",
    "import pyautogui\n",
    "import cv2\n",
    "import numpy as np\n",
    "import pygetwindow as gw  # To ensure window is on top\n",
    "\n",
    "def bring_window_to_front(window_name=\"Screen\"):\n",
    "    # Bring the window to the front using pygetwindow\n",
    "    try:\n",
    "        window = gw.getWindowsWithTitle(window_name)[0]  # Get the window by title\n",
    "        window.activate()  # Bring the window to the front\n",
    "    except IndexError:\n",
    "        print(f\"Window '{window_name}' not found.\")\n",
    "\n",
    "def capture_screen(region=None):\n",
    "    screenshot = pyautogui.screenshot(region=region) # screenshot\n",
    "    img_bgr = np.array(screenshot) # convert to numpy array\n",
    "    img_rgb = cv2.cvtColor(img_bgr, cv2.COLOR_BGR2RGB) # convert\n",
    "    return img_rgb\n",
    "\n",
    "def find_and_click(template, screen, threshold=0.9):\n",
    "    result = cv2.matchTemplate(screen, template, cv2.TM_CCOEFF_NORMED)\n",
    "    min_val, max_val, min_loc, max_loc = cv2.minMaxLoc(result)\n",
    "\n",
    "    # Check if the match is above the threshold\n",
    "    if max_val > threshold:\n",
    "        # Calculate the center of the template match location\n",
    "        center_x = max_loc[0] + template.shape[1] // 2\n",
    "        center_y = max_loc[1] + template.shape[0] // 2\n",
    "        pyautogui.click(center_x, center_y)\n",
    "\n",
    "def main():\n",
    "    # Load the template image\n",
    "    template = cv2.imread(\"needle.png\", cv2.IMREAD_COLOR)\n",
    "    cv2.namedWindow(\"Screen\", cv2.WINDOW_NORMAL)\n",
    "\n",
    "    while True:\n",
    "        screen = capture_screen()\n",
    "\n",
    "        find_and_click(template, screen)\n",
    "\n",
    "        # Show the screen capture in a window (optional for debugging)\n",
    "        cv2.resizeWindow(\"Screen\", 600, 300)\n",
    "        bring_window_to_front(\"Screen\")\n",
    "        cv2.imshow(\"Screen\", screen)\n",
    "        cv2.setWindowProperty(\"Screen\", cv2.WND_PROP_TOPMOST, 1)\n",
    "        \n",
    "        # Add a small delay to avoid excessive CPU usage\n",
    "        time.sleep(0.5)\n",
    "\n",
    "        # Break the loop if 'q' is pressed\n",
    "        if cv2.waitKey(1) & 0xFF == ord('q'):\n",
    "            break\n",
    "\n",
    "    cv2.destroyAllWindows()\n",
    "\n",
    "if __name__ == \"__main__\":\n",
    "    main()"
   ]
  },
  {
   "cell_type": "code",
   "execution_count": null,
   "metadata": {},
   "outputs": [],
   "source": []
  }
 ],
 "metadata": {
  "kernelspec": {
   "display_name": "Python 3",
   "language": "python",
   "name": "python3"
  },
  "language_info": {
   "codemirror_mode": {
    "name": "ipython",
    "version": 3
   },
   "file_extension": ".py",
   "mimetype": "text/x-python",
   "name": "python",
   "nbconvert_exporter": "python",
   "pygments_lexer": "ipython3",
   "version": "3.12.1"
  }
 },
 "nbformat": 4,
 "nbformat_minor": 2
}
