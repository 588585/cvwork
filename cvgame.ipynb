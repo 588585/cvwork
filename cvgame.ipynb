{
 "cells": [
  {
   "cell_type": "markdown",
   "metadata": {},
   "source": [
    "These codes are used to explore the use of cv2 with TuringComplete  \n",
    "game -> https://store.steampowered.com/app/1444480/Turing_Complete/\n",
    "\n",
    "Game Description\n",
    "This game is based on a powerful circuit simulator. This circuit simulator allows you to give free rein to your imagination and pass through the levels with different solutions or build your own computer the way you like. You can connect as many components as you like to your computer such as displays, timers, sound components, etc., as well as receive data sent from real-life keyboards and networks. You can even design your own proprietary assembly language for your own computer.\n",
    "\n",
    "In the following code I will use cv2 and keyboard input to try to get through the maze challenges in the game, I will rewrite the assembly code from the game in python before trying to train the model to pass the game using q larning\n",
    "\n",
    "run in win10( 2k 125% ) in game \"the maze\" (150% biggest window)\n",
    "\n",
    "<img src=\".\\images\\TuringCompleteimage.png\" width=\"500\" />"
   ]
  },
  {
   "cell_type": "markdown",
   "metadata": {},
   "source": [
    "1.Use cv2 to detect the surrounding :)"
   ]
  },
  {
   "cell_type": "code",
   "execution_count": 22,
   "metadata": {},
   "outputs": [
    {
     "name": "stdout",
     "output_type": "stream",
     "text": [
      "ready?\n",
      "run!\n",
      "up not wall\n",
      "left not wall\n",
      "down not wall\n",
      "right not wall\n"
     ]
    }
   ],
   "source": [
    "import time\n",
    "import pyautogui\n",
    "import cv2\n",
    "import numpy as np\n",
    "\n",
    "\n",
    "def capture_screen(region=None):\n",
    "    screenshot = pyautogui.screenshot(region=region) # screenshot\n",
    "    img_bgr = np.array(screenshot) # convert to numpy array\n",
    "    img_rgb = cv2.cvtColor(img_bgr, cv2.COLOR_BGR2RGB) # convert\n",
    "    return img_rgb\n",
    "\n",
    "\n",
    "def findAndShow(templatewall,threshold=0.9):\n",
    "    iswall = [0, 0, 0, 0]#[\"up\",\"left\",\"down\",\"right\"]\n",
    "    for i in range(4):\n",
    "        screen = capture_screen()\n",
    "        time.sleep(0.01)\n",
    "        # 使用temlatewall匹配确认前面有没有wall\n",
    "        result = cv2.matchTemplate(screen, templatewall, cv2.TM_CCOEFF_NORMED)\n",
    "        min_val, max_val, min_loc, max_loc = cv2.minMaxLoc(result)\n",
    "        if max_val > threshold:\n",
    "            iswall[i]= 1\n",
    "        else:\n",
    "            iswall[i] = 0\n",
    "        pyautogui.press('left')\n",
    "    printIsWall(iswall)\n",
    "    return iswall\n",
    "\n",
    "\n",
    "def printIsWall(iswall):\n",
    "    # 1 is wall 0 is not wall. \n",
    "    # Example: When the array is [1,0,1,1] the resultw will be \n",
    "    # up is wall, left not wall, down is wall, right is wall\n",
    "    directions = [\"up\",\"left\",\"down\",\"right\"]\n",
    "    for i in range(len(iswall)):\n",
    "        if iswall[i] == 1:\n",
    "            print(f\"{directions[i]} is wall\")\n",
    "        else:\n",
    "            print(f\"{directions[i]} not wall\")\n",
    "\n",
    "\n",
    "def main():\n",
    "    templatewall = cv2.imread(\".\\\\images\\\\tcwall.png\",cv2.IMREAD_COLOR)\n",
    "    if templatewall is None:\n",
    "        print(\"Error: image not be loaded.\")\n",
    "        return 0 \n",
    "    #cv2.namedWindow(\"Screen\", cv2.WINDOW_NORMAL)\n",
    "    # while True:\n",
    "    #     findAndShow()\n",
    "    #     if cv2.waitKey(1) & 0xFF == ord('q'):\n",
    "    #         break\n",
    "    print(\"ready?\")\n",
    "    time.sleep(2)\n",
    "    print(\"run!\")\n",
    "    findAndShow(templatewall)\n",
    "\n",
    "if __name__ == \"__main__\":\n",
    "    main()\n",
    "\n"
   ]
  },
  {
   "cell_type": "markdown",
   "metadata": {},
   "source": [
    "Complete the game using the left-first principle (write the DIY assembly language code in the game as python)"
   ]
  },
  {
   "cell_type": "code",
   "execution_count": 3,
   "metadata": {},
   "outputs": [
    {
     "name": "stdout",
     "output_type": "stream",
     "text": [
      "ready?\n",
      "run!\n",
      "go front\n",
      "go right\n",
      "go front\n",
      "go left\n",
      "go front\n",
      "go left\n",
      "go front\n",
      "you find door ! :)\n"
     ]
    }
   ],
   "source": [
    "import time\n",
    "import pyautogui\n",
    "import cv2\n",
    "import numpy as np\n",
    "import keyboard \n",
    "\n",
    "def capture_screen(region=None):\n",
    "    screenshot = pyautogui.screenshot(region=region) # screenshot\n",
    "    img_bgr = np.array(screenshot) # convert to numpy array\n",
    "    img_rgb = cv2.cvtColor(img_bgr, cv2.COLOR_BGR2RGB) # convert\n",
    "    return img_rgb\n",
    "\n",
    "\n",
    "def findAndShow(templatewall,templatedoor,threshold=0.9):\n",
    "    iswall = [0, 0, 0, 0]#[\"front\",\"left\",\"back\",\"right\"]\n",
    "    isDoor = [0, 0, 0, 0]#[\"front\",\"left\",\"back\",\"right\"]\n",
    "    for i in range(4):\n",
    "        screen = capture_screen()\n",
    "        #time.sleep(0.01)\n",
    "        # 使用temlatewall匹配确认前面有没有wall\n",
    "        resultwall = cv2.matchTemplate(screen, templatewall, cv2.TM_CCOEFF_NORMED)\n",
    "        min_val, max_valwall, min_loc, max_loc = cv2.minMaxLoc(resultwall)\n",
    "        if max_valwall > threshold:\n",
    "            iswall[i]= 1\n",
    "        else:\n",
    "            iswall[i] = 0\n",
    "        # 使用temlatewall匹配确认前面有没有door\n",
    "        resultdoor = cv2.matchTemplate(screen, templatedoor, cv2.TM_CCOEFF_NORMED)\n",
    "        min_val, max_valdoor, min_loc, max_loc = cv2.minMaxLoc(resultdoor)\n",
    "        if max_valdoor > threshold:\n",
    "            isDoor[i]= 1\n",
    "        else:\n",
    "            isDoor[i] = 0\n",
    "        pyautogui.press('left')\n",
    "    return iswall , isDoor\n",
    "\n",
    "\n",
    "def main():\n",
    "    templatewall = cv2.imread(\".\\\\images\\\\tcwall.png\",cv2.IMREAD_COLOR)\n",
    "    templatedoor = cv2.imread(\".\\\\images\\\\tcdoor.png\",cv2.IMREAD_COLOR)\n",
    "    if templatewall is None or templatedoor is None:\n",
    "        print(\"Error: images not be loaded.\")\n",
    "        return 0 \n",
    "    print(\"ready?\")\n",
    "    time.sleep(2)\n",
    "    print(\"run!\")\n",
    "    while True:\n",
    "        if keyboard.is_pressed('q'):\n",
    "            print(\"Program stop!\")\n",
    "            break\n",
    "\n",
    "        result_wall, result_door = findAndShow(templatewall,templatedoor)\n",
    "        for i in range(4):\n",
    "            if result_door[i] == 1 :\n",
    "                print(\"you find door ! :)\")\n",
    "                return 1 \n",
    "        #move\n",
    "        if result_wall[1] == 0 :\n",
    "            print(\"go left\")\n",
    "            pyautogui.press('left')\n",
    "            pyautogui.press('up')\n",
    "        elif result_wall[0] == 0 :\n",
    "            print(\"go front\")\n",
    "            pyautogui.press('up')\n",
    "        elif result_wall[3] == 0 :\n",
    "            print(\"go right\")\n",
    "            pyautogui.press('right')\n",
    "            pyautogui.press('up')\n",
    "        elif result_wall[2] == 0 :\n",
    "            print(\"go back\")\n",
    "            pyautogui.press('right')\n",
    "            pyautogui.press('right')\n",
    "            pyautogui.press('up')\n",
    "        else :\n",
    "            print(\"Error :(\")\n",
    "            return 0 \n",
    "        \n",
    "\n",
    "\n",
    "if __name__ == \"__main__\":\n",
    "    main()\n"
   ]
  },
  {
   "cell_type": "markdown",
   "metadata": {},
   "source": [
    "We can try to use q-learning in this maze game now"
   ]
  },
  {
   "cell_type": "markdown",
   "metadata": {},
   "source": [
    "Each position and direction in the maze can be considered as a state, and each movement as an action. "
   ]
  }
 ],
 "metadata": {
  "kernelspec": {
   "display_name": ".venv",
   "language": "python",
   "name": "python3"
  },
  "language_info": {
   "codemirror_mode": {
    "name": "ipython",
    "version": 3
   },
   "file_extension": ".py",
   "mimetype": "text/x-python",
   "name": "python",
   "nbconvert_exporter": "python",
   "pygments_lexer": "ipython3",
   "version": "3.12.1"
  }
 },
 "nbformat": 4,
 "nbformat_minor": 2
}
